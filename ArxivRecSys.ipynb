{
 "cells": [
  {
   "cell_type": "code",
   "execution_count": 1,
   "id": "94e9577d",
   "metadata": {},
   "outputs": [],
   "source": [
    "from arxiv_recsys import ArXivPaperRecommendationSystem\n",
    "\n",
    "# Create an instance of the ArXivPaperRecommendationSystem\n",
    "recommendation_system = ArXivPaperRecommendationSystem()"
   ]
  },
  {
   "cell_type": "code",
   "execution_count": null,
   "id": "4e78c7e0",
   "metadata": {},
   "outputs": [
    {
     "name": "stderr",
     "output_type": "stream",
     "text": [
      "Retrieving Data: 100%|█████████████████████████████████████████████████████████████████| 10/10 [00:03<00:00,  3.11it/s]\n",
      "Retrieving Data: 100%|█████████████████████████████████████████████████████████████████| 10/10 [00:02<00:00,  3.40it/s]\n"
     ]
    }
   ],
   "source": [
    "# Retrieve arXiv data\n",
    "recommendation_system.retrieve_arxiv_data()\n",
    "\n",
    "# Calculate TF-IDF vectors and similarities\n",
    "recommendation_system.calculate_similarity()\n",
    "\n",
    "# Create the GUI\n",
    "recommendation_system.create_gui()\n",
    "\n",
    "# Run the system and start the Tkinter main loop\n",
    "recommendation_system.run()"
   ]
  }
 ],
 "metadata": {
  "kernelspec": {
   "display_name": "Python 3 (ipykernel)",
   "language": "python",
   "name": "python3"
  },
  "language_info": {
   "codemirror_mode": {
    "name": "ipython",
    "version": 3
   },
   "file_extension": ".py",
   "mimetype": "text/x-python",
   "name": "python",
   "nbconvert_exporter": "python",
   "pygments_lexer": "ipython3",
   "version": "3.9.16"
  }
 },
 "nbformat": 4,
 "nbformat_minor": 5
}
